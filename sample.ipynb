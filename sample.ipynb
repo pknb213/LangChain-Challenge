{
 "cells": [
  {
   "metadata": {},
   "cell_type": "markdown",
   "source": [
    "# This is a sample Jupyter Notebook\n",
    "\n",
    "Below is an example of a code cell. \n",
    "Put your cursor into the cell and press Shift+Enter to execute it and select the next one, or click 'Run Cell' button.\n",
    "\n",
    "Press Double Shift to search everywhere for classes, files, tool windows, actions, and settings.\n",
    "\n",
    "To learn more about Jupyter Notebooks in PyCharm, see [help](https://www.jetbrains.com/help/pycharm/ipython-notebook-support.html).\n",
    "For an overview of PyCharm, go to Help -> Learn IDE features or refer to [our documentation](https://www.jetbrains.com/help/pycharm/getting-started.html)."
   ],
   "id": "8a77807f92f26ee"
  },
  {
   "metadata": {
    "ExecuteTime": {
     "end_time": "2025-06-30T06:04:53.115995Z",
     "start_time": "2025-06-30T06:04:46.433952Z"
    }
   },
   "cell_type": "code",
   "source": [
    "from dotenv import load_dotenv\n",
    "import os\n",
    "from pathlib import Path\n",
    "from langchain.chat_models.openai import ChatOpenAI\n",
    "from langchain.prompts import ChatPromptTemplate\n",
    "from langchain.schema import StrOutputParser\n",
    "from langchain.callbacks import StreamingStdOutCallbackHandler\n",
    "from langchain.chains import LLMChain, SimpleSequentialChain\n",
    "\n",
    "raw = Path(\".env\").read_bytes()\n",
    "load_dotenv(dotenv_path=Path(\".env\"), override=True)\n",
    "\n",
    "assert os.getenv(\"OPENAI_API_KEY\"), \"OPENAI_API_KEY is not set\"\n",
    "os.environ[\"OPENAI_API_KEY\"] = os.getenv('OPENAI_API_KEY')"
   ],
   "id": "fbc121e30a2defb3",
   "outputs": [],
   "execution_count": 1
  },
  {
   "metadata": {
    "ExecuteTime": {
     "end_time": "2025-06-30T06:06:31.485704Z",
     "start_time": "2025-06-30T06:06:28.529651Z"
    }
   },
   "cell_type": "code",
   "source": [
    "model = ChatOpenAI(\n",
    "    model=\"gpt-3.5-turbo\",\n",
    "    streaming=True,\n",
    "    callbacks=[StreamingStdOutCallbackHandler()]\n",
    ")\n",
    "\n",
    "poem_prompt = ChatPromptTemplate.from_template(\n",
    "    \"다음 프로그래밍 언어에 대한 짧은 시를 영어로 지어줘. 그리고 한글로 번역도 작성 해줘.:\\n\\n\"\n",
    "    \"언어: {language}\\n\\n\"\n",
    "    \"시:\"\n",
    ")\n",
    "\n",
    "poem_chain = LLMChain(llm=model, prompt=poem_prompt, output_key=\"poem\")\n",
    "\n",
    "explain_prompt = ChatPromptTemplate.from_template(\n",
    "    \"아래 시를 보고, 콜롬비아 출신의 사람에게 딱 맞는 비유와 은유를 들어 영어로 설명 해줘:\\n\\n\"\n",
    "    \"{poem}\\n\\n\"\n",
    "    \"설명:\"\n",
    ")\n",
    "\n",
    "explain_chain = LLMChain(llm=model, prompt=explain_prompt, output_key=\"explanation\")\n",
    "\n",
    "full_chain = poem_chain | explain_chain\n",
    "full_chain.invoke({\"language\": \"Python\"})\n",
    "\n",
    "# seq_chain = SimpleSequentialChain(\n",
    "#     chains=[poem_chain, explain_chain],\n",
    "#     input_key='language',\n",
    "#     output_key='explanation',\n",
    "#     verbose=True\n",
    "# )\n",
    "#\n",
    "# result = seq_chain.run({\"language\": \"Python\"})"
   ],
   "id": "e985a0b80edcb6aa",
   "outputs": [
    {
     "name": "stdout",
     "output_type": "stream",
     "text": [
      "In the world of code, Python slithers with grace,\n",
      "With its clean syntax and powerful embrace.\n",
      "From data analysis to web apps so fine,\n",
      "Python's versatility truly shines.\n",
      "\n",
      "한글 번역:\n",
      "코드의 세계에서, 파이썬은 우아하게 기어다닙니다,\n",
      "깔끔한 구문과 강력한 기능을 갖추고 있죠.\n",
      "데이터 분석부터 멋진 웹 앱까지,\n",
      "파이썬의 다재다능함이 찬란히 빛나네요.In the world of code, Python is like a skilled salsa dancer from Colombia, moving with grace and precision. Just like Colombian dancers are known for their fluid movements and elegance, Python is known for its clean syntax and powerful capabilities. Much like how Colombian dancers can seamlessly transition between different styles of dance, Python can be used for a wide range of tasks such as data analysis and creating web applications. Just as Colombian culture is rich and diverse, Python's versatility truly shines in the world of programming."
     ]
    },
    {
     "data": {
      "text/plain": [
       "{'language': 'Python',\n",
       " 'poem': \"In the world of code, Python slithers with grace,\\nWith its clean syntax and powerful embrace.\\nFrom data analysis to web apps so fine,\\nPython's versatility truly shines.\\n\\n한글 번역:\\n코드의 세계에서, 파이썬은 우아하게 기어다닙니다,\\n깔끔한 구문과 강력한 기능을 갖추고 있죠.\\n데이터 분석부터 멋진 웹 앱까지,\\n파이썬의 다재다능함이 찬란히 빛나네요.\",\n",
       " 'explanation': \"In the world of code, Python is like a skilled salsa dancer from Colombia, moving with grace and precision. Just like Colombian dancers are known for their fluid movements and elegance, Python is known for its clean syntax and powerful capabilities. Much like how Colombian dancers can seamlessly transition between different styles of dance, Python can be used for a wide range of tasks such as data analysis and creating web applications. Just as Colombian culture is rich and diverse, Python's versatility truly shines in the world of programming.\"}"
      ]
     },
     "execution_count": 4,
     "metadata": {},
     "output_type": "execute_result"
    }
   ],
   "execution_count": 4
  },
  {
   "metadata": {
    "ExecuteTime": {
     "end_time": "2025-06-30T05:03:54.839220Z",
     "start_time": "2025-06-30T05:03:54.838018Z"
    }
   },
   "cell_type": "code",
   "source": "",
   "id": "dca1daf8f76c37ec",
   "outputs": [],
   "execution_count": null
  },
  {
   "metadata": {},
   "cell_type": "code",
   "outputs": [],
   "execution_count": null,
   "source": "",
   "id": "6e1235e1e67981f3"
  }
 ],
 "metadata": {
  "kernelspec": {
   "display_name": "Python 3",
   "language": "python",
   "name": "python3"
  },
  "language_info": {
   "codemirror_mode": {
    "name": "ipython",
    "version": 2
   },
   "file_extension": ".py",
   "mimetype": "text/x-python",
   "name": "python",
   "nbconvert_exporter": "python",
   "pygments_lexer": "ipython2",
   "version": "2.7.6"
  }
 },
 "nbformat": 4,
 "nbformat_minor": 5
}
