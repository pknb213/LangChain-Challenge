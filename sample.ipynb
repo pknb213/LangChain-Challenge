{
 "cells": [
  {
   "metadata": {},
   "cell_type": "markdown",
   "source": [
    "# 25.06.30 LangChain Challenge Start\n",
    "\n",
    "with [Nomad Coder](https://nomadcoders.co/c/gpt-challenge/lobby)"
   ],
   "id": "8a77807f92f26ee"
  },
  {
   "metadata": {},
   "cell_type": "markdown",
   "source": "",
   "id": "8f1e4eb6fa02eb58"
  },
  {
   "metadata": {
    "ExecuteTime": {
     "end_time": "2025-07-03T15:06:06.482561Z",
     "start_time": "2025-07-03T15:06:06.477030Z"
    }
   },
   "cell_type": "code",
   "source": [
    "from IPython.terminal.shortcuts.filters import pass_through\n",
    "from dotenv import load_dotenv\n",
    "import os\n",
    "from pathlib import Path\n",
    "from langchain.chat_models.openai import ChatOpenAI\n",
    "from langchain.prompts import ChatPromptTemplate, FewShotPromptTemplate, PromptTemplate\n",
    "from langchain.schema import StrOutputParser\n",
    "from langchain.callbacks import StreamingStdOutCallbackHandler\n",
    "from langchain.chains import LLMChain, SimpleSequentialChain, ConversationChain\n",
    "from langchain.memory import ConversationBufferMemory\n",
    "from langchain.schema.runnable import RunnablePassthrough\n",
    "\n",
    "raw = Path(\".env\").read_bytes()\n",
    "load_dotenv(dotenv_path=Path(\".env\"), override=True)\n",
    "\n",
    "assert os.getenv(\"OPENAI_API_KEY\"), \"OPENAI_API_KEY is not set\"\n",
    "os.environ[\"OPENAI_API_KEY\"] = os.getenv('OPENAI_API_KEY')\n",
    "model = ChatOpenAI(\n",
    "    model=\"gpt-3.5-turbo\",\n",
    "    streaming=True,\n",
    "    callbacks=[StreamingStdOutCallbackHandler(),]\n",
    ")"
   ],
   "id": "fbc121e30a2defb3",
   "outputs": [],
   "execution_count": 11
  },
  {
   "metadata": {
    "ExecuteTime": {
     "end_time": "2025-06-30T06:06:31.485704Z",
     "start_time": "2025-06-30T06:06:28.529651Z"
    }
   },
   "cell_type": "code",
   "source": [
    "poem_prompt = ChatPromptTemplate.from_template(\n",
    "    \"다음 프로그래밍 언어에 대한 짧은 시를 영어로 지어줘. 그리고 한글로 번역도 작성 해줘.:\\n\\n\"\n",
    "    \"언어: {language}\\n\\n\"\n",
    "    \"시:\"\n",
    ")\n",
    "\n",
    "poem_chain = LLMChain(llm=model, prompt=poem_prompt, output_key=\"poem\")\n",
    "\n",
    "explain_prompt = ChatPromptTemplate.from_template(\n",
    "    \"아래 시를 보고, 콜롬비아 출신의 사람에게 딱 맞는 비유와 은유를 들어 영어로 설명 해줘:\\n\\n\"\n",
    "    \"{poem}\\n\\n\"\n",
    "    \"설명:\"\n",
    ")\n",
    "\n",
    "explain_chain = LLMChain(llm=model, prompt=explain_prompt, output_key=\"explanation\")\n",
    "\n",
    "full_chain = poem_chain | explain_chain\n",
    "full_chain.invoke({\"language\": \"Python\"})\n",
    "\n",
    "# seq_chain = SimpleSequentialChain(\n",
    "#     chains=[poem_chain, explain_chain],\n",
    "#     input_key='language',\n",
    "#     output_key='explanation',\n",
    "#     verbose=True\n",
    "# )\n",
    "#\n",
    "# result = seq_chain.run({\"language\": \"Python\"})"
   ],
   "id": "e985a0b80edcb6aa",
   "outputs": [
    {
     "name": "stdout",
     "output_type": "stream",
     "text": [
      "In the world of code, Python slithers with grace,\n",
      "With its clean syntax and powerful embrace.\n",
      "From data analysis to web apps so fine,\n",
      "Python's versatility truly shines.\n",
      "\n",
      "한글 번역:\n",
      "코드의 세계에서, 파이썬은 우아하게 기어다닙니다,\n",
      "깔끔한 구문과 강력한 기능을 갖추고 있죠.\n",
      "데이터 분석부터 멋진 웹 앱까지,\n",
      "파이썬의 다재다능함이 찬란히 빛나네요.In the world of code, Python is like a skilled salsa dancer from Colombia, moving with grace and precision. Just like Colombian dancers are known for their fluid movements and elegance, Python is known for its clean syntax and powerful capabilities. Much like how Colombian dancers can seamlessly transition between different styles of dance, Python can be used for a wide range of tasks such as data analysis and creating web applications. Just as Colombian culture is rich and diverse, Python's versatility truly shines in the world of programming."
     ]
    },
    {
     "data": {
      "text/plain": [
       "{'language': 'Python',\n",
       " 'poem': \"In the world of code, Python slithers with grace,\\nWith its clean syntax and powerful embrace.\\nFrom data analysis to web apps so fine,\\nPython's versatility truly shines.\\n\\n한글 번역:\\n코드의 세계에서, 파이썬은 우아하게 기어다닙니다,\\n깔끔한 구문과 강력한 기능을 갖추고 있죠.\\n데이터 분석부터 멋진 웹 앱까지,\\n파이썬의 다재다능함이 찬란히 빛나네요.\",\n",
       " 'explanation': \"In the world of code, Python is like a skilled salsa dancer from Colombia, moving with grace and precision. Just like Colombian dancers are known for their fluid movements and elegance, Python is known for its clean syntax and powerful capabilities. Much like how Colombian dancers can seamlessly transition between different styles of dance, Python can be used for a wide range of tasks such as data analysis and creating web applications. Just as Colombian culture is rich and diverse, Python's versatility truly shines in the world of programming.\"}"
      ]
     },
     "execution_count": 4,
     "metadata": {},
     "output_type": "execute_result"
    }
   ],
   "execution_count": 4
  },
  {
   "metadata": {},
   "cell_type": "markdown",
   "source": "# 25.07.01 Challenge",
   "id": "fba73f276bf5cf7d"
  },
  {
   "metadata": {
    "ExecuteTime": {
     "end_time": "2025-07-01T08:26:08.440953Z",
     "start_time": "2025-07-01T08:26:08.436046Z"
    }
   },
   "cell_type": "code",
   "source": [
    "examples = [\n",
    "    {\n",
    "        'question': '영화 갓 파더에 대해 설명해줘.',\n",
    "        'answer': \"\"\"\n",
    "            '감독': '프랑시스 포드 코폴라',\n",
    "            '주요_출연진': ['Marlon Brando', 'Al Pacino', 'James Caan'],\n",
    "            '예산': 6000000,\n",
    "            '흥행_수익': 246120974,\n",
    "            '장르': '범죄',\n",
    "            '간략한_줄거리': 'The aging patriarch of an organized crime dynasty transfers control of his clandestine empire to his reluctant son.'\n",
    "        \"\"\"\n",
    "    },\n",
    "    {\n",
    "        'question': '오징어 게임에 대해 설명 해줘.',\n",
    "        'answer': \"\"\"\n",
    "            '감독': '황동혁',\n",
    "            '주요_출연진': ['이정재', '타노스', '이병헌'],\n",
    "            '예산': 100000,\n",
    "            '흥행_수익': 423413491,\n",
    "            '장르': '드라마',\n",
    "            '간략한_줄거리': '어느날 사람들이 의문의 게임에 초대받고, 생존을 위해 목숨을 건 게임에 참여하게 된다. 이 게임은 상금이 걸린 치열한 경쟁으로, 참가자들은 각자의 사연과 이유로 게임에 참여하게 된다.'\n",
    "        \"\"\"\n",
    "    },\n",
    "    {\n",
    "        'question': '인디아나 존스 영화에 대해서 설명 해줘.',\n",
    "        'answer': \"\"\"\n",
    "            '감독': '스티븐 스필버그',\n",
    "            '주요_출연진': ['Harrison Ford', 'Karen Allen', 'Paul Freeman'],\n",
    "            '예산': 18000000,\n",
    "            '흥행_수익': 389925971,\n",
    "            '장르': '어드벤처',\n",
    "            '간략한_줄거리': 'An archaeologist is hired by the U.S. government to find the Ark of the Covenant.'\n",
    "        \"\"\"\n",
    "    },\n",
    "    {\n",
    "        'question': '영화 타이타닉에 대해서 설명 해줘.',\n",
    "        'answer': \"\"\"\n",
    "            '감독': '제임스 카메론',\n",
    "            '주요_출연진': ['Kate Winslet', 'Leonardo DiCaprio', 'Billy Zane'],\n",
    "            '예산': 200000000,\n",
    "            '흥행_수익': 2187463944,\n",
    "            '장르': '로맨스',\n",
    "            '간략한_줄거리': 'A seventeen-year-old aristocrat falls in love with a kind but poor artist aboard the luxurious, ill-fated R.M.S. Titanic.'\n",
    "        \"\"\"\n",
    "    }\n",
    "]"
   ],
   "id": "7c2f339f44d7ae52",
   "outputs": [],
   "execution_count": 42
  },
  {
   "metadata": {
    "ExecuteTime": {
     "end_time": "2025-07-01T08:27:17.361898Z",
     "start_time": "2025-07-01T08:27:17.358777Z"
    }
   },
   "cell_type": "code",
   "source": [
    "example_prompt = PromptTemplate(\n",
    "    input_variables=[\"question\", \"answer\"],\n",
    "    template=\"Question: {question}\\n{answer}\"\n",
    ")\n",
    "# print(example_prompt.format(**examples[0]))"
   ],
   "id": "4ac40fe72c8b0952",
   "outputs": [],
   "execution_count": 48
  },
  {
   "metadata": {
    "ExecuteTime": {
     "end_time": "2025-07-01T08:27:18.417029Z",
     "start_time": "2025-07-01T08:27:18.413492Z"
    }
   },
   "cell_type": "code",
   "source": [
    "prompt = FewShotPromptTemplate(\n",
    "    examples=examples,\n",
    "    example_prompt=example_prompt,\n",
    "    suffix=\"Question: {input}\\nAnswer:\",\n",
    "    input_variables=[\"input\"],\n",
    ")\n",
    "# print(prompt.format(input=\"오징어 게임\"))"
   ],
   "id": "c5855adba222deb1",
   "outputs": [],
   "execution_count": 49
  },
  {
   "metadata": {
    "ExecuteTime": {
     "end_time": "2025-07-01T08:27:25.294404Z",
     "start_time": "2025-07-01T08:27:24.024758Z"
    }
   },
   "cell_type": "code",
   "source": [
    "chain = LLMChain(llm=model, prompt=prompt, output_key=\"answer\")\n",
    "\n",
    "chain.invoke({\"input\": \"마더\"})"
   ],
   "id": "9e62537a1dde2718",
   "outputs": [
    {
     "name": "stdout",
     "output_type": "stream",
     "text": [
      "'감독': '봉준호',\n",
      "'주요_출연진': ['김혜자', '원빈', '진구'],\n",
      "'예산': 5000000,\n",
      "'흥행_수익': 16917651,\n",
      "'장르': '스릴러',\n",
      "'간략한_줄거리': '실종된 딸을 찾기 위해 모든 것을 걸고 싸우는 엄마의 이야기를 그린 영화.'"
     ]
    },
    {
     "data": {
      "text/plain": [
       "{'input': '마더',\n",
       " 'answer': \"'감독': '봉준호',\\n'주요_출연진': ['김혜자', '원빈', '진구'],\\n'예산': 5000000,\\n'흥행_수익': 16917651,\\n'장르': '스릴러',\\n'간략한_줄거리': '실종된 딸을 찾기 위해 모든 것을 걸고 싸우는 엄마의 이야기를 그린 영화.'\"}"
      ]
     },
     "execution_count": 50,
     "metadata": {},
     "output_type": "execute_result"
    }
   ],
   "execution_count": 50
  },
  {
   "metadata": {},
   "cell_type": "markdown",
   "source": "# 25.07.02 Challenge",
   "id": "404542adc0c61ab9"
  },
  {
   "metadata": {
    "ExecuteTime": {
     "end_time": "2025-07-03T16:05:54.514766Z",
     "start_time": "2025-07-03T16:05:54.510243Z"
    }
   },
   "cell_type": "code",
   "source": [
    "examples = [\n",
    "    {\n",
    "        'question': '탑건',\n",
    "        'answer': \"🛩️👨‍✈️🔥\"\n",
    "    },\n",
    "    {\n",
    "        'question': '마더',\n",
    "        'answer': \"🙎🏻‍♀️🔫🍝\"\n",
    "    },\n",
    "    {\n",
    "        'question': '오징어게임',\n",
    "        'answer': \"🦑🎮💰\"\n",
    "    },\n",
    "    {\n",
    "        'question': '타이타닉',\n",
    "        'answer': \"🚢💔🌊\"\n",
    "    },\n",
    "    {\n",
    "        'question': '인디아나 존스',\n",
    "        'answer': \"🏺🗺🧳\"\n",
    "    },\n",
    "    {\n",
    "        'question': '아이언맨',\n",
    "        'answer': \"🤖🦾💥\"\n",
    "    }\n",
    "]"
   ],
   "id": "ca95edbd49a9f7d2",
   "outputs": [],
   "execution_count": 111
  },
  {
   "metadata": {
    "ExecuteTime": {
     "end_time": "2025-07-03T16:05:55.093839Z",
     "start_time": "2025-07-03T16:05:55.090630Z"
    }
   },
   "cell_type": "code",
   "source": [
    "example_prompt = PromptTemplate(\n",
    "    input_variables=[\"question\", \"answer\"],\n",
    "    template=\"Question: {question}\\n{answer}\"\n",
    ")\n",
    "prompt = FewShotPromptTemplate(\n",
    "    examples=examples,\n",
    "    example_prompt=example_prompt,\n",
    "    suffix=\"History:\\n{history}\\nQuestion: {input}\\nAnswer:\",\n",
    "    input_variables=[\"history\", \"input\"],\n",
    ")"
   ],
   "id": "e9f59dd545df9da9",
   "outputs": [],
   "execution_count": 112
  },
  {
   "metadata": {
    "ExecuteTime": {
     "end_time": "2025-07-03T16:05:55.663685Z",
     "start_time": "2025-07-03T16:05:55.660514Z"
    }
   },
   "cell_type": "code",
   "source": [
    "memory = ConversationBufferMemory(\n",
    "    memory_key='history',\n",
    "    input_key='input',\n",
    "    return_messages=True\n",
    ")"
   ],
   "id": "e88526582b43583b",
   "outputs": [],
   "execution_count": 113
  },
  {
   "metadata": {
    "ExecuteTime": {
     "end_time": "2025-07-03T16:05:56.094047Z",
     "start_time": "2025-07-03T16:05:56.089167Z"
    }
   },
   "cell_type": "code",
   "source": [
    "def load_memory(_):\n",
    "    print(_)\n",
    "    return memory.load_memory_variables({})['history']\n",
    "\n",
    "chain = RunnablePassthrough.assign(history=load_memory) | prompt | model\n",
    "\n",
    "def invoke_chain(question):\n",
    "    result = chain.invoke({\n",
    "        \"input\": question\n",
    "    })\n",
    "    memory.save_context(\n",
    "        {\"input\": question},\n",
    "        {\"answer\": result.content}\n",
    "    )\n",
    "    print(\"\\n>>\\n\", memory)"
   ],
   "id": "92d85a80e0519c3c",
   "outputs": [],
   "execution_count": 114
  },
  {
   "metadata": {
    "ExecuteTime": {
     "end_time": "2025-07-03T16:05:57.227054Z",
     "start_time": "2025-07-03T16:05:56.634422Z"
    }
   },
   "cell_type": "code",
   "source": "invoke_chain(\"헝거 게임\")",
   "id": "911d023b35cf3134",
   "outputs": [
    {
     "name": "stdout",
     "output_type": "stream",
     "text": [
      "{'input': '헝거 게임'}\n",
      "🏹🔥🏆\n",
      ">>\n",
      " chat_memory=ChatMessageHistory(messages=[HumanMessage(content='헝거 게임'), AIMessage(content='🏹🔥🏆')]) input_key='input' return_messages=True\n"
     ]
    }
   ],
   "execution_count": 115
  },
  {
   "metadata": {
    "ExecuteTime": {
     "end_time": "2025-07-03T16:06:06.577629Z",
     "start_time": "2025-07-03T16:06:05.891258Z"
    }
   },
   "cell_type": "code",
   "source": "invoke_chain(\"닥터스트레인지\")",
   "id": "ecef79392a542770",
   "outputs": [
    {
     "name": "stdout",
     "output_type": "stream",
     "text": [
      "{'input': '닥터스트레인지'}\n",
      "🔮👨‍⚕️🌀\n",
      ">>\n",
      " chat_memory=ChatMessageHistory(messages=[HumanMessage(content='헝거 게임'), AIMessage(content='🏹🔥🏆'), HumanMessage(content='닥터스트레인지'), AIMessage(content='🔮👨\\u200d⚕️🌀')]) input_key='input' return_messages=True\n"
     ]
    }
   ],
   "execution_count": 116
  },
  {
   "metadata": {
    "ExecuteTime": {
     "end_time": "2025-07-03T16:06:24.144594Z",
     "start_time": "2025-07-03T16:06:22.080413Z"
    }
   },
   "cell_type": "code",
   "source": "invoke_chain(\"내가 마지막에 무엇을 물어봤지?\")",
   "id": "c8a5cd5fa570c230",
   "outputs": [
    {
     "name": "stdout",
     "output_type": "stream",
     "text": [
      "{'input': '내가 마지막에 무엇을 물어봤지?'}\n",
      " 내가 마지막에 무엇을 물어봤지? 닥터스트레인지\n",
      ">>\n",
      " chat_memory=ChatMessageHistory(messages=[HumanMessage(content='헝거 게임'), AIMessage(content='🏹🔥🏆'), HumanMessage(content='닥터스트레인지'), AIMessage(content='🔮👨\\u200d⚕️🌀'), HumanMessage(content='내가 마지막에 무엇을 물어봤지?'), AIMessage(content=' 내가 마지막에 무엇을 물어봤지? 닥터스트레인지')]) input_key='input' return_messages=True\n"
     ]
    }
   ],
   "execution_count": 117
  },
  {
   "metadata": {
    "ExecuteTime": {
     "end_time": "2025-07-03T16:06:40.339871Z",
     "start_time": "2025-07-03T16:06:39.200262Z"
    }
   },
   "cell_type": "code",
   "source": "invoke_chain(\"내가 처음에 무슨 영화를 물어봤지?\")",
   "id": "35c740b827833945",
   "outputs": [
    {
     "name": "stdout",
     "output_type": "stream",
     "text": [
      "{'input': '내가 처음에 무슨 영화를 물어봤지?'}\n",
      "탑건\n",
      ">>\n",
      " chat_memory=ChatMessageHistory(messages=[HumanMessage(content='헝거 게임'), AIMessage(content='🏹🔥🏆'), HumanMessage(content='닥터스트레인지'), AIMessage(content='🔮👨\\u200d⚕️🌀'), HumanMessage(content='내가 마지막에 무엇을 물어봤지?'), AIMessage(content=' 내가 마지막에 무엇을 물어봤지? 닥터스트레인지'), HumanMessage(content='내가 처음에 무슨 영화를 물어봤지?'), AIMessage(content='탑건')]) input_key='input' return_messages=True\n"
     ]
    }
   ],
   "execution_count": 118
  },
  {
   "metadata": {},
   "cell_type": "code",
   "outputs": [],
   "execution_count": null,
   "source": "",
   "id": "ebc8e62f08bfdebe"
  }
 ],
 "metadata": {
  "kernelspec": {
   "display_name": "Python 3",
   "language": "python",
   "name": "python3"
  },
  "language_info": {
   "codemirror_mode": {
    "name": "ipython",
    "version": 2
   },
   "file_extension": ".py",
   "mimetype": "text/x-python",
   "name": "python",
   "nbconvert_exporter": "python",
   "pygments_lexer": "ipython2",
   "version": "2.7.6"
  }
 },
 "nbformat": 4,
 "nbformat_minor": 5
}
