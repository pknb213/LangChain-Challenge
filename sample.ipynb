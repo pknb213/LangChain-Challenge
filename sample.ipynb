{
 "cells": [
  {
   "metadata": {},
   "cell_type": "markdown",
   "source": [
    "# This is a sample Jupyter Notebook\n",
    "\n",
    "Below is an example of a code cell. \n",
    "Put your cursor into the cell and press Shift+Enter to execute it and select the next one, or click 'Run Cell' button.\n",
    "\n",
    "Press Double Shift to search everywhere for classes, files, tool windows, actions, and settings.\n",
    "\n",
    "To learn more about Jupyter Notebooks in PyCharm, see [help](https://www.jetbrains.com/help/pycharm/ipython-notebook-support.html).\n",
    "For an overview of PyCharm, go to Help -> Learn IDE features or refer to [our documentation](https://www.jetbrains.com/help/pycharm/getting-started.html)."
   ],
   "id": "8a77807f92f26ee"
  },
  {
   "metadata": {
    "ExecuteTime": {
     "end_time": "2025-07-01T08:19:21.032882Z",
     "start_time": "2025-07-01T08:19:21.025358Z"
    }
   },
   "cell_type": "code",
   "source": [
    "from dotenv import load_dotenv\n",
    "import os\n",
    "from pathlib import Path\n",
    "from langchain.chat_models.openai import ChatOpenAI\n",
    "from langchain.prompts import ChatPromptTemplate, FewShotPromptTemplate, PromptTemplate\n",
    "from langchain.schema import StrOutputParser\n",
    "from langchain.callbacks import StreamingStdOutCallbackHandler\n",
    "from langchain.chains import LLMChain, SimpleSequentialChain\n",
    "\n",
    "raw = Path(\".env\").read_bytes()\n",
    "load_dotenv(dotenv_path=Path(\".env\"), override=True)\n",
    "\n",
    "assert os.getenv(\"OPENAI_API_KEY\"), \"OPENAI_API_KEY is not set\"\n",
    "os.environ[\"OPENAI_API_KEY\"] = os.getenv('OPENAI_API_KEY')\n",
    "model = ChatOpenAI(\n",
    "    model=\"gpt-3.5-turbo\",\n",
    "    streaming=True,\n",
    "    callbacks=[StreamingStdOutCallbackHandler()]\n",
    ")"
   ],
   "id": "fbc121e30a2defb3",
   "outputs": [],
   "execution_count": 33
  },
  {
   "metadata": {
    "ExecuteTime": {
     "end_time": "2025-06-30T06:06:31.485704Z",
     "start_time": "2025-06-30T06:06:28.529651Z"
    }
   },
   "cell_type": "code",
   "source": [
    "poem_prompt = ChatPromptTemplate.from_template(\n",
    "    \"다음 프로그래밍 언어에 대한 짧은 시를 영어로 지어줘. 그리고 한글로 번역도 작성 해줘.:\\n\\n\"\n",
    "    \"언어: {language}\\n\\n\"\n",
    "    \"시:\"\n",
    ")\n",
    "\n",
    "poem_chain = LLMChain(llm=model, prompt=poem_prompt, output_key=\"poem\")\n",
    "\n",
    "explain_prompt = ChatPromptTemplate.from_template(\n",
    "    \"아래 시를 보고, 콜롬비아 출신의 사람에게 딱 맞는 비유와 은유를 들어 영어로 설명 해줘:\\n\\n\"\n",
    "    \"{poem}\\n\\n\"\n",
    "    \"설명:\"\n",
    ")\n",
    "\n",
    "explain_chain = LLMChain(llm=model, prompt=explain_prompt, output_key=\"explanation\")\n",
    "\n",
    "full_chain = poem_chain | explain_chain\n",
    "full_chain.invoke({\"language\": \"Python\"})\n",
    "\n",
    "# seq_chain = SimpleSequentialChain(\n",
    "#     chains=[poem_chain, explain_chain],\n",
    "#     input_key='language',\n",
    "#     output_key='explanation',\n",
    "#     verbose=True\n",
    "# )\n",
    "#\n",
    "# result = seq_chain.run({\"language\": \"Python\"})"
   ],
   "id": "e985a0b80edcb6aa",
   "outputs": [
    {
     "name": "stdout",
     "output_type": "stream",
     "text": [
      "In the world of code, Python slithers with grace,\n",
      "With its clean syntax and powerful embrace.\n",
      "From data analysis to web apps so fine,\n",
      "Python's versatility truly shines.\n",
      "\n",
      "한글 번역:\n",
      "코드의 세계에서, 파이썬은 우아하게 기어다닙니다,\n",
      "깔끔한 구문과 강력한 기능을 갖추고 있죠.\n",
      "데이터 분석부터 멋진 웹 앱까지,\n",
      "파이썬의 다재다능함이 찬란히 빛나네요.In the world of code, Python is like a skilled salsa dancer from Colombia, moving with grace and precision. Just like Colombian dancers are known for their fluid movements and elegance, Python is known for its clean syntax and powerful capabilities. Much like how Colombian dancers can seamlessly transition between different styles of dance, Python can be used for a wide range of tasks such as data analysis and creating web applications. Just as Colombian culture is rich and diverse, Python's versatility truly shines in the world of programming."
     ]
    },
    {
     "data": {
      "text/plain": [
       "{'language': 'Python',\n",
       " 'poem': \"In the world of code, Python slithers with grace,\\nWith its clean syntax and powerful embrace.\\nFrom data analysis to web apps so fine,\\nPython's versatility truly shines.\\n\\n한글 번역:\\n코드의 세계에서, 파이썬은 우아하게 기어다닙니다,\\n깔끔한 구문과 강력한 기능을 갖추고 있죠.\\n데이터 분석부터 멋진 웹 앱까지,\\n파이썬의 다재다능함이 찬란히 빛나네요.\",\n",
       " 'explanation': \"In the world of code, Python is like a skilled salsa dancer from Colombia, moving with grace and precision. Just like Colombian dancers are known for their fluid movements and elegance, Python is known for its clean syntax and powerful capabilities. Much like how Colombian dancers can seamlessly transition between different styles of dance, Python can be used for a wide range of tasks such as data analysis and creating web applications. Just as Colombian culture is rich and diverse, Python's versatility truly shines in the world of programming.\"}"
      ]
     },
     "execution_count": 4,
     "metadata": {},
     "output_type": "execute_result"
    }
   ],
   "execution_count": 4
  },
  {
   "metadata": {},
   "cell_type": "markdown",
   "source": "# 25.07.01 Challenge",
   "id": "fba73f276bf5cf7d"
  },
  {
   "metadata": {
    "ExecuteTime": {
     "end_time": "2025-07-01T08:26:08.440953Z",
     "start_time": "2025-07-01T08:26:08.436046Z"
    }
   },
   "cell_type": "code",
   "source": [
    "examples = [\n",
    "    {\n",
    "        'question': '영화 갓 파더에 대해 설명해줘.',\n",
    "        'answer': \"\"\"\n",
    "            '감독': '프랑시스 포드 코폴라',\n",
    "            '주요_출연진': ['Marlon Brando', 'Al Pacino', 'James Caan'],\n",
    "            '예산': 6000000,\n",
    "            '흥행_수익': 246120974,\n",
    "            '장르': '범죄',\n",
    "            '간략한_줄거리': 'The aging patriarch of an organized crime dynasty transfers control of his clandestine empire to his reluctant son.'\n",
    "        \"\"\"\n",
    "    },\n",
    "    {\n",
    "        'question': '오징어 게임에 대해 설명 해줘.',\n",
    "        'answer': \"\"\"\n",
    "            '감독': '황동혁',\n",
    "            '주요_출연진': ['이정재', '타노스', '이병헌'],\n",
    "            '예산': 100000,\n",
    "            '흥행_수익': 423413491,\n",
    "            '장르': '드라마',\n",
    "            '간략한_줄거리': '어느날 사람들이 의문의 게임에 초대받고, 생존을 위해 목숨을 건 게임에 참여하게 된다. 이 게임은 상금이 걸린 치열한 경쟁으로, 참가자들은 각자의 사연과 이유로 게임에 참여하게 된다.'\n",
    "        \"\"\"\n",
    "    },\n",
    "    {\n",
    "        'question': '인디아나 존스 영화에 대해서 설명 해줘.',\n",
    "        'answer': \"\"\"\n",
    "            '감독': '스티븐 스필버그',\n",
    "            '주요_출연진': ['Harrison Ford', 'Karen Allen', 'Paul Freeman'],\n",
    "            '예산': 18000000,\n",
    "            '흥행_수익': 389925971,\n",
    "            '장르': '어드벤처',\n",
    "            '간략한_줄거리': 'An archaeologist is hired by the U.S. government to find the Ark of the Covenant.'\n",
    "        \"\"\"\n",
    "    },\n",
    "    {\n",
    "        'question': '영화 타이타닉에 대해서 설명 해줘.',\n",
    "        'answer': \"\"\"\n",
    "            '감독': '제임스 카메론',\n",
    "            '주요_출연진': ['Kate Winslet', 'Leonardo DiCaprio', 'Billy Zane'],\n",
    "            '예산': 200000000,\n",
    "            '흥행_수익': 2187463944,\n",
    "            '장르': '로맨스',\n",
    "            '간략한_줄거리': 'A seventeen-year-old aristocrat falls in love with a kind but poor artist aboard the luxurious, ill-fated R.M.S. Titanic.'\n",
    "        \"\"\"\n",
    "    }\n",
    "]"
   ],
   "id": "7c2f339f44d7ae52",
   "outputs": [],
   "execution_count": 42
  },
  {
   "metadata": {
    "ExecuteTime": {
     "end_time": "2025-07-01T08:27:17.361898Z",
     "start_time": "2025-07-01T08:27:17.358777Z"
    }
   },
   "cell_type": "code",
   "source": [
    "example_prompt = PromptTemplate(\n",
    "    input_variables=[\"question\", \"answer\"],\n",
    "    template=\"Question: {question}\\n{answer}\"\n",
    ")\n",
    "# print(example_prompt.format(**examples[0]))"
   ],
   "id": "4ac40fe72c8b0952",
   "outputs": [],
   "execution_count": 48
  },
  {
   "metadata": {
    "ExecuteTime": {
     "end_time": "2025-07-01T08:27:18.417029Z",
     "start_time": "2025-07-01T08:27:18.413492Z"
    }
   },
   "cell_type": "code",
   "source": [
    "prompt = FewShotPromptTemplate(\n",
    "    examples=examples,\n",
    "    example_prompt=example_prompt,\n",
    "    suffix=\"Question: {input}\\nAnswer:\",\n",
    "    input_variables=[\"input\"],\n",
    ")\n",
    "# print(prompt.format(input=\"오징어 게임\"))"
   ],
   "id": "c5855adba222deb1",
   "outputs": [],
   "execution_count": 49
  },
  {
   "metadata": {
    "ExecuteTime": {
     "end_time": "2025-07-01T08:27:25.294404Z",
     "start_time": "2025-07-01T08:27:24.024758Z"
    }
   },
   "cell_type": "code",
   "source": [
    "chain = LLMChain(llm=model, prompt=prompt, output_key=\"answer\")\n",
    "\n",
    "chain.invoke({\"input\": \"마더\"})"
   ],
   "id": "9e62537a1dde2718",
   "outputs": [
    {
     "name": "stdout",
     "output_type": "stream",
     "text": [
      "'감독': '봉준호',\n",
      "'주요_출연진': ['김혜자', '원빈', '진구'],\n",
      "'예산': 5000000,\n",
      "'흥행_수익': 16917651,\n",
      "'장르': '스릴러',\n",
      "'간략한_줄거리': '실종된 딸을 찾기 위해 모든 것을 걸고 싸우는 엄마의 이야기를 그린 영화.'"
     ]
    },
    {
     "data": {
      "text/plain": [
       "{'input': '마더',\n",
       " 'answer': \"'감독': '봉준호',\\n'주요_출연진': ['김혜자', '원빈', '진구'],\\n'예산': 5000000,\\n'흥행_수익': 16917651,\\n'장르': '스릴러',\\n'간략한_줄거리': '실종된 딸을 찾기 위해 모든 것을 걸고 싸우는 엄마의 이야기를 그린 영화.'\"}"
      ]
     },
     "execution_count": 50,
     "metadata": {},
     "output_type": "execute_result"
    }
   ],
   "execution_count": 50
  },
  {
   "metadata": {},
   "cell_type": "code",
   "outputs": [],
   "execution_count": null,
   "source": "",
   "id": "bd58166b4b5b6af9"
  }
 ],
 "metadata": {
  "kernelspec": {
   "display_name": "Python 3",
   "language": "python",
   "name": "python3"
  },
  "language_info": {
   "codemirror_mode": {
    "name": "ipython",
    "version": 2
   },
   "file_extension": ".py",
   "mimetype": "text/x-python",
   "name": "python",
   "nbconvert_exporter": "python",
   "pygments_lexer": "ipython2",
   "version": "2.7.6"
  }
 },
 "nbformat": 4,
 "nbformat_minor": 5
}
