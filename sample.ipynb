{
 "cells": [
  {
   "metadata": {},
   "cell_type": "markdown",
   "source": [
    "# 25.06.30 LangChain Challenge Start\n",
    "\n",
    "with [Nomad Coder](https://nomadcoders.co/c/gpt-challenge/lobby)"
   ],
   "id": "8a77807f92f26ee"
  },
  {
   "metadata": {},
   "cell_type": "markdown",
   "source": "",
   "id": "8f1e4eb6fa02eb58"
  },
  {
   "metadata": {
    "ExecuteTime": {
     "end_time": "2025-07-04T07:49:07.887127Z",
     "start_time": "2025-07-04T07:49:07.878108Z"
    }
   },
   "cell_type": "code",
   "source": [
    "from IPython.terminal.shortcuts.filters import pass_through\n",
    "from dotenv import load_dotenv\n",
    "import os\n",
    "from pathlib import Path\n",
    "from langchain.chat_models.openai import ChatOpenAI\n",
    "from langchain.prompts import ChatPromptTemplate, FewShotPromptTemplate, PromptTemplate\n",
    "from langchain.schema import StrOutputParser\n",
    "from langchain.callbacks import StreamingStdOutCallbackHandler\n",
    "from langchain.chains import LLMChain, SimpleSequentialChain, ConversationChain\n",
    "from langchain.memory import ConversationBufferMemory\n",
    "from langchain.schema.runnable import RunnablePassthrough\n",
    "\n",
    "raw = Path(\".env\").read_bytes()\n",
    "load_dotenv(dotenv_path=Path(\".env\"), override=True)\n",
    "\n",
    "assert os.getenv(\"OPENAI_API_KEY\"), \"OPENAI_API_KEY is not set\"\n",
    "os.environ[\"OPENAI_API_KEY\"] = os.getenv('OPENAI_API_KEY')\n",
    "model = ChatOpenAI(\n",
    "    model=\"gpt-3.5-turbo\",\n",
    "    streaming=True,\n",
    "    callbacks=[StreamingStdOutCallbackHandler(),]\n",
    ")"
   ],
   "id": "fbc121e30a2defb3",
   "outputs": [],
   "execution_count": 17
  },
  {
   "metadata": {
    "ExecuteTime": {
     "end_time": "2025-06-30T06:06:31.485704Z",
     "start_time": "2025-06-30T06:06:28.529651Z"
    }
   },
   "cell_type": "code",
   "source": [
    "poem_prompt = ChatPromptTemplate.from_template(\n",
    "    \"다음 프로그래밍 언어에 대한 짧은 시를 영어로 지어줘. 그리고 한글로 번역도 작성 해줘.:\\n\\n\"\n",
    "    \"언어: {language}\\n\\n\"\n",
    "    \"시:\"\n",
    ")\n",
    "\n",
    "poem_chain = LLMChain(llm=model, prompt=poem_prompt, output_key=\"poem\")\n",
    "\n",
    "explain_prompt = ChatPromptTemplate.from_template(\n",
    "    \"아래 시를 보고, 콜롬비아 출신의 사람에게 딱 맞는 비유와 은유를 들어 영어로 설명 해줘:\\n\\n\"\n",
    "    \"{poem}\\n\\n\"\n",
    "    \"설명:\"\n",
    ")\n",
    "\n",
    "explain_chain = LLMChain(llm=model, prompt=explain_prompt, output_key=\"explanation\")\n",
    "\n",
    "full_chain = poem_chain | explain_chain\n",
    "full_chain.invoke({\"language\": \"Python\"})\n",
    "\n",
    "# seq_chain = SimpleSequentialChain(\n",
    "#     chains=[poem_chain, explain_chain],\n",
    "#     input_key='language',\n",
    "#     output_key='explanation',\n",
    "#     verbose=True\n",
    "# )\n",
    "#\n",
    "# result = seq_chain.run({\"language\": \"Python\"})"
   ],
   "id": "e985a0b80edcb6aa",
   "outputs": [
    {
     "name": "stdout",
     "output_type": "stream",
     "text": [
      "In the world of code, Python slithers with grace,\n",
      "With its clean syntax and powerful embrace.\n",
      "From data analysis to web apps so fine,\n",
      "Python's versatility truly shines.\n",
      "\n",
      "한글 번역:\n",
      "코드의 세계에서, 파이썬은 우아하게 기어다닙니다,\n",
      "깔끔한 구문과 강력한 기능을 갖추고 있죠.\n",
      "데이터 분석부터 멋진 웹 앱까지,\n",
      "파이썬의 다재다능함이 찬란히 빛나네요.In the world of code, Python is like a skilled salsa dancer from Colombia, moving with grace and precision. Just like Colombian dancers are known for their fluid movements and elegance, Python is known for its clean syntax and powerful capabilities. Much like how Colombian dancers can seamlessly transition between different styles of dance, Python can be used for a wide range of tasks such as data analysis and creating web applications. Just as Colombian culture is rich and diverse, Python's versatility truly shines in the world of programming."
     ]
    },
    {
     "data": {
      "text/plain": [
       "{'language': 'Python',\n",
       " 'poem': \"In the world of code, Python slithers with grace,\\nWith its clean syntax and powerful embrace.\\nFrom data analysis to web apps so fine,\\nPython's versatility truly shines.\\n\\n한글 번역:\\n코드의 세계에서, 파이썬은 우아하게 기어다닙니다,\\n깔끔한 구문과 강력한 기능을 갖추고 있죠.\\n데이터 분석부터 멋진 웹 앱까지,\\n파이썬의 다재다능함이 찬란히 빛나네요.\",\n",
       " 'explanation': \"In the world of code, Python is like a skilled salsa dancer from Colombia, moving with grace and precision. Just like Colombian dancers are known for their fluid movements and elegance, Python is known for its clean syntax and powerful capabilities. Much like how Colombian dancers can seamlessly transition between different styles of dance, Python can be used for a wide range of tasks such as data analysis and creating web applications. Just as Colombian culture is rich and diverse, Python's versatility truly shines in the world of programming.\"}"
      ]
     },
     "execution_count": 4,
     "metadata": {},
     "output_type": "execute_result"
    }
   ],
   "execution_count": 4
  },
  {
   "metadata": {},
   "cell_type": "markdown",
   "source": "# 25.07.01 Challenge",
   "id": "fba73f276bf5cf7d"
  },
  {
   "metadata": {
    "ExecuteTime": {
     "end_time": "2025-07-01T08:26:08.440953Z",
     "start_time": "2025-07-01T08:26:08.436046Z"
    }
   },
   "cell_type": "code",
   "source": [
    "examples = [\n",
    "    {\n",
    "        'question': '영화 갓 파더에 대해 설명해줘.',\n",
    "        'answer': \"\"\"\n",
    "            '감독': '프랑시스 포드 코폴라',\n",
    "            '주요_출연진': ['Marlon Brando', 'Al Pacino', 'James Caan'],\n",
    "            '예산': 6000000,\n",
    "            '흥행_수익': 246120974,\n",
    "            '장르': '범죄',\n",
    "            '간략한_줄거리': 'The aging patriarch of an organized crime dynasty transfers control of his clandestine empire to his reluctant son.'\n",
    "        \"\"\"\n",
    "    },\n",
    "    {\n",
    "        'question': '오징어 게임에 대해 설명 해줘.',\n",
    "        'answer': \"\"\"\n",
    "            '감독': '황동혁',\n",
    "            '주요_출연진': ['이정재', '타노스', '이병헌'],\n",
    "            '예산': 100000,\n",
    "            '흥행_수익': 423413491,\n",
    "            '장르': '드라마',\n",
    "            '간략한_줄거리': '어느날 사람들이 의문의 게임에 초대받고, 생존을 위해 목숨을 건 게임에 참여하게 된다. 이 게임은 상금이 걸린 치열한 경쟁으로, 참가자들은 각자의 사연과 이유로 게임에 참여하게 된다.'\n",
    "        \"\"\"\n",
    "    },\n",
    "    {\n",
    "        'question': '인디아나 존스 영화에 대해서 설명 해줘.',\n",
    "        'answer': \"\"\"\n",
    "            '감독': '스티븐 스필버그',\n",
    "            '주요_출연진': ['Harrison Ford', 'Karen Allen', 'Paul Freeman'],\n",
    "            '예산': 18000000,\n",
    "            '흥행_수익': 389925971,\n",
    "            '장르': '어드벤처',\n",
    "            '간략한_줄거리': 'An archaeologist is hired by the U.S. government to find the Ark of the Covenant.'\n",
    "        \"\"\"\n",
    "    },\n",
    "    {\n",
    "        'question': '영화 타이타닉에 대해서 설명 해줘.',\n",
    "        'answer': \"\"\"\n",
    "            '감독': '제임스 카메론',\n",
    "            '주요_출연진': ['Kate Winslet', 'Leonardo DiCaprio', 'Billy Zane'],\n",
    "            '예산': 200000000,\n",
    "            '흥행_수익': 2187463944,\n",
    "            '장르': '로맨스',\n",
    "            '간략한_줄거리': 'A seventeen-year-old aristocrat falls in love with a kind but poor artist aboard the luxurious, ill-fated R.M.S. Titanic.'\n",
    "        \"\"\"\n",
    "    }\n",
    "]"
   ],
   "id": "7c2f339f44d7ae52",
   "outputs": [],
   "execution_count": 42
  },
  {
   "metadata": {
    "ExecuteTime": {
     "end_time": "2025-07-01T08:27:17.361898Z",
     "start_time": "2025-07-01T08:27:17.358777Z"
    }
   },
   "cell_type": "code",
   "source": [
    "example_prompt = PromptTemplate(\n",
    "    input_variables=[\"question\", \"answer\"],\n",
    "    template=\"Question: {question}\\n{answer}\"\n",
    ")\n",
    "# print(example_prompt.format(**examples[0]))"
   ],
   "id": "4ac40fe72c8b0952",
   "outputs": [],
   "execution_count": 48
  },
  {
   "metadata": {
    "ExecuteTime": {
     "end_time": "2025-07-01T08:27:18.417029Z",
     "start_time": "2025-07-01T08:27:18.413492Z"
    }
   },
   "cell_type": "code",
   "source": [
    "prompt = FewShotPromptTemplate(\n",
    "    examples=examples,\n",
    "    example_prompt=example_prompt,\n",
    "    suffix=\"Question: {input}\\nAnswer:\",\n",
    "    input_variables=[\"input\"],\n",
    ")\n",
    "# print(prompt.format(input=\"오징어 게임\"))"
   ],
   "id": "c5855adba222deb1",
   "outputs": [],
   "execution_count": 49
  },
  {
   "metadata": {
    "ExecuteTime": {
     "end_time": "2025-07-01T08:27:25.294404Z",
     "start_time": "2025-07-01T08:27:24.024758Z"
    }
   },
   "cell_type": "code",
   "source": [
    "chain = LLMChain(llm=model, prompt=prompt, output_key=\"answer\")\n",
    "\n",
    "chain.invoke({\"input\": \"마더\"})"
   ],
   "id": "9e62537a1dde2718",
   "outputs": [
    {
     "name": "stdout",
     "output_type": "stream",
     "text": [
      "'감독': '봉준호',\n",
      "'주요_출연진': ['김혜자', '원빈', '진구'],\n",
      "'예산': 5000000,\n",
      "'흥행_수익': 16917651,\n",
      "'장르': '스릴러',\n",
      "'간략한_줄거리': '실종된 딸을 찾기 위해 모든 것을 걸고 싸우는 엄마의 이야기를 그린 영화.'"
     ]
    },
    {
     "data": {
      "text/plain": [
       "{'input': '마더',\n",
       " 'answer': \"'감독': '봉준호',\\n'주요_출연진': ['김혜자', '원빈', '진구'],\\n'예산': 5000000,\\n'흥행_수익': 16917651,\\n'장르': '스릴러',\\n'간략한_줄거리': '실종된 딸을 찾기 위해 모든 것을 걸고 싸우는 엄마의 이야기를 그린 영화.'\"}"
      ]
     },
     "execution_count": 50,
     "metadata": {},
     "output_type": "execute_result"
    }
   ],
   "execution_count": 50
  },
  {
   "metadata": {},
   "cell_type": "markdown",
   "source": "# 25.07.02 Challenge",
   "id": "404542adc0c61ab9"
  },
  {
   "metadata": {
    "ExecuteTime": {
     "end_time": "2025-07-03T16:05:54.514766Z",
     "start_time": "2025-07-03T16:05:54.510243Z"
    }
   },
   "cell_type": "code",
   "source": [
    "examples = [\n",
    "    {\n",
    "        'question': '탑건',\n",
    "        'answer': \"🛩️👨‍✈️🔥\"\n",
    "    },\n",
    "    {\n",
    "        'question': '마더',\n",
    "        'answer': \"🙎🏻‍♀️🔫🍝\"\n",
    "    },\n",
    "    {\n",
    "        'question': '오징어게임',\n",
    "        'answer': \"🦑🎮💰\"\n",
    "    },\n",
    "    {\n",
    "        'question': '타이타닉',\n",
    "        'answer': \"🚢💔🌊\"\n",
    "    },\n",
    "    {\n",
    "        'question': '인디아나 존스',\n",
    "        'answer': \"🏺🗺🧳\"\n",
    "    },\n",
    "    {\n",
    "        'question': '아이언맨',\n",
    "        'answer': \"🤖🦾💥\"\n",
    "    }\n",
    "]"
   ],
   "id": "ca95edbd49a9f7d2",
   "outputs": [],
   "execution_count": 111
  },
  {
   "metadata": {
    "ExecuteTime": {
     "end_time": "2025-07-03T16:05:55.093839Z",
     "start_time": "2025-07-03T16:05:55.090630Z"
    }
   },
   "cell_type": "code",
   "source": [
    "example_prompt = PromptTemplate(\n",
    "    input_variables=[\"question\", \"answer\"],\n",
    "    template=\"Question: {question}\\n{answer}\"\n",
    ")\n",
    "prompt = FewShotPromptTemplate(\n",
    "    examples=examples,\n",
    "    example_prompt=example_prompt,\n",
    "    suffix=\"History:\\n{history}\\nQuestion: {input}\\nAnswer:\",\n",
    "    input_variables=[\"history\", \"input\"],\n",
    ")"
   ],
   "id": "e9f59dd545df9da9",
   "outputs": [],
   "execution_count": 112
  },
  {
   "metadata": {
    "ExecuteTime": {
     "end_time": "2025-07-03T16:05:55.663685Z",
     "start_time": "2025-07-03T16:05:55.660514Z"
    }
   },
   "cell_type": "code",
   "source": [
    "memory = ConversationBufferMemory(\n",
    "    memory_key='history',\n",
    "    input_key='input',\n",
    "    return_messages=True\n",
    ")"
   ],
   "id": "e88526582b43583b",
   "outputs": [],
   "execution_count": 113
  },
  {
   "metadata": {
    "ExecuteTime": {
     "end_time": "2025-07-03T16:05:56.094047Z",
     "start_time": "2025-07-03T16:05:56.089167Z"
    }
   },
   "cell_type": "code",
   "source": [
    "def load_memory(_):\n",
    "    print(_)\n",
    "    return memory.load_memory_variables({})['history']\n",
    "\n",
    "chain = RunnablePassthrough.assign(history=load_memory) | prompt | model\n",
    "\n",
    "def invoke_chain(question):\n",
    "    result = chain.invoke({\n",
    "        \"input\": question\n",
    "    })\n",
    "    memory.save_context(\n",
    "        {\"input\": question},\n",
    "        {\"answer\": result.content}\n",
    "    )\n",
    "    print(\"\\n>>\\n\", memory)"
   ],
   "id": "92d85a80e0519c3c",
   "outputs": [],
   "execution_count": 114
  },
  {
   "metadata": {
    "ExecuteTime": {
     "end_time": "2025-07-03T16:05:57.227054Z",
     "start_time": "2025-07-03T16:05:56.634422Z"
    }
   },
   "cell_type": "code",
   "source": "invoke_chain(\"헝거 게임\")",
   "id": "911d023b35cf3134",
   "outputs": [
    {
     "name": "stdout",
     "output_type": "stream",
     "text": [
      "{'input': '헝거 게임'}\n",
      "🏹🔥🏆\n",
      ">>\n",
      " chat_memory=ChatMessageHistory(messages=[HumanMessage(content='헝거 게임'), AIMessage(content='🏹🔥🏆')]) input_key='input' return_messages=True\n"
     ]
    }
   ],
   "execution_count": 115
  },
  {
   "metadata": {
    "ExecuteTime": {
     "end_time": "2025-07-03T16:06:06.577629Z",
     "start_time": "2025-07-03T16:06:05.891258Z"
    }
   },
   "cell_type": "code",
   "source": "invoke_chain(\"닥터스트레인지\")",
   "id": "ecef79392a542770",
   "outputs": [
    {
     "name": "stdout",
     "output_type": "stream",
     "text": [
      "{'input': '닥터스트레인지'}\n",
      "🔮👨‍⚕️🌀\n",
      ">>\n",
      " chat_memory=ChatMessageHistory(messages=[HumanMessage(content='헝거 게임'), AIMessage(content='🏹🔥🏆'), HumanMessage(content='닥터스트레인지'), AIMessage(content='🔮👨\\u200d⚕️🌀')]) input_key='input' return_messages=True\n"
     ]
    }
   ],
   "execution_count": 116
  },
  {
   "metadata": {
    "ExecuteTime": {
     "end_time": "2025-07-03T16:06:24.144594Z",
     "start_time": "2025-07-03T16:06:22.080413Z"
    }
   },
   "cell_type": "code",
   "source": "invoke_chain(\"내가 마지막에 무엇을 물어봤지?\")",
   "id": "c8a5cd5fa570c230",
   "outputs": [
    {
     "name": "stdout",
     "output_type": "stream",
     "text": [
      "{'input': '내가 마지막에 무엇을 물어봤지?'}\n",
      " 내가 마지막에 무엇을 물어봤지? 닥터스트레인지\n",
      ">>\n",
      " chat_memory=ChatMessageHistory(messages=[HumanMessage(content='헝거 게임'), AIMessage(content='🏹🔥🏆'), HumanMessage(content='닥터스트레인지'), AIMessage(content='🔮👨\\u200d⚕️🌀'), HumanMessage(content='내가 마지막에 무엇을 물어봤지?'), AIMessage(content=' 내가 마지막에 무엇을 물어봤지? 닥터스트레인지')]) input_key='input' return_messages=True\n"
     ]
    }
   ],
   "execution_count": 117
  },
  {
   "metadata": {
    "ExecuteTime": {
     "end_time": "2025-07-03T16:06:40.339871Z",
     "start_time": "2025-07-03T16:06:39.200262Z"
    }
   },
   "cell_type": "code",
   "source": "invoke_chain(\"내가 처음에 무슨 영화를 물어봤지?\")",
   "id": "35c740b827833945",
   "outputs": [
    {
     "name": "stdout",
     "output_type": "stream",
     "text": [
      "{'input': '내가 처음에 무슨 영화를 물어봤지?'}\n",
      "탑건\n",
      ">>\n",
      " chat_memory=ChatMessageHistory(messages=[HumanMessage(content='헝거 게임'), AIMessage(content='🏹🔥🏆'), HumanMessage(content='닥터스트레인지'), AIMessage(content='🔮👨\\u200d⚕️🌀'), HumanMessage(content='내가 마지막에 무엇을 물어봤지?'), AIMessage(content=' 내가 마지막에 무엇을 물어봤지? 닥터스트레인지'), HumanMessage(content='내가 처음에 무슨 영화를 물어봤지?'), AIMessage(content='탑건')]) input_key='input' return_messages=True\n"
     ]
    }
   ],
   "execution_count": 118
  },
  {
   "metadata": {},
   "cell_type": "markdown",
   "source": [
    "# 25.07.04 Challenge\n",
    "Stuff Documents 체인을 사용하여 완전한 RAG 파이프라인을 구현하세요.\n",
    "체인을 수동으로 구현해야 합니다.\n",
    "체인에 ConversationBufferMemory를 부여합니다.\n",
    "이 문서를 사용하여 RAG를 수행하세요: https://gist.github.com/serranoarevalo/5acf755c2b8d83f1707ef266b82ea223\n",
    "체인에 다음 질문을 합니다:\n",
    "Aaronson 은 유죄인가요?\n",
    "그가 테이블에 어떤 메시지를 썼나요?\n",
    "Julia 는 누구인가요?"
   ],
   "id": "4c2442e7e2fd6571"
  },
  {
   "metadata": {
    "ExecuteTime": {
     "end_time": "2025-07-04T08:18:06.294099Z",
     "start_time": "2025-07-04T08:18:04.454946Z"
    }
   },
   "cell_type": "code",
   "source": [
    "from langchain.document_loaders import TextLoader\n",
    "from langchain.text_splitter import CharacterTextSplitter\n",
    "from langchain.embeddings import OpenAIEmbeddings\n",
    "from langchain.embeddings import CacheBackedEmbeddings\n",
    "from langchain.vectorstores import FAISS\n",
    "from langchain.chains import ConversationalRetrievalChain\n",
    "from langchain.memory import ConversationBufferMemory\n",
    "from langchain.storage import InMemoryStore\n",
    "\n",
    "# Step 1: 문서 로드\n",
    "def load_document():\n",
    "    loader = TextLoader('./text.txt')\n",
    "    documents = loader.load()\n",
    "    return documents\n",
    "\n",
    "# Step 2: 문서 분할\n",
    "def split_documents(documents):\n",
    "    splitter = CharacterTextSplitter(\n",
    "        chunk_size=1000,\n",
    "        chunk_overlap=100,\n",
    "        separator=\"\\n\"\n",
    "    )\n",
    "    return splitter.split_documents(documents)\n",
    "\n",
    "# Step 3: 임베딩 및 캐시 설정\n",
    "def create_embeddings():\n",
    "    # 기본 임베딩 모델\n",
    "    base_embeddings = OpenAIEmbeddings()\n",
    "    # 캐시 저장소 생성\n",
    "    store = InMemoryStore()\n",
    "    # 캐시된 임베딩 생성\n",
    "    cached_embeddings = CacheBackedEmbeddings.from_bytes_store(\n",
    "        base_embeddings,\n",
    "        store,\n",
    "        namespace=\"openai_embeddings\"\n",
    "    )\n",
    "    return cached_embeddings\n",
    "\n",
    "# Step 4: 벡터 스토어 생성\n",
    "def create_vector_store(documents, embeddings):\n",
    "    return FAISS.from_documents(documents, embeddings)\n",
    "\n",
    "# Step 5: 대화 메모리 설정\n",
    "def create_memory():\n",
    "    return ConversationBufferMemory(\n",
    "        memory_key=\"chat_history\",\n",
    "        return_messages=True,\n",
    "        output_key=\"answer\"\n",
    "    )\n",
    "\n",
    "# Step 6: RAG 체인 생성\n",
    "def create_rag_chain(vectorstore, memory):\n",
    "    llm = ChatOpenAI(\n",
    "        model_name=\"gpt-3.5-turbo\",\n",
    "        streaming=True,\n",
    "        callbacks=[StreamingStdOutCallbackHandler()],\n",
    "        temperature=0\n",
    "    )\n",
    "    chain = ConversationalRetrievalChain.from_llm(\n",
    "        llm=llm,\n",
    "        retriever=vectorstore.as_retriever(search_kwargs={\"k\": 3}),\n",
    "        memory=memory,\n",
    "        return_source_documents=True\n",
    "    )\n",
    "    return chain\n",
    "\n",
    "print(\"1. 문서 로드 중...\")\n",
    "documents = load_document()\n",
    "\n",
    "print(\"2. 문서 분할 중...\")\n",
    "chunks = split_documents(documents)\n",
    "print(f\"총 {len(chunks)}개의 청크로 분할됨\")\n",
    "\n",
    "print(\"3. 임베딩 생성 중...\")\n",
    "embeddings = create_embeddings()\n",
    "\n",
    "print(\"4. 벡터 스토어 생성 중...\")\n",
    "vectorstore = create_vector_store(chunks, embeddings)\n",
    "\n",
    "print(\"5. 메모리 및 체인 설정 중...\")\n",
    "memory = create_memory()\n",
    "chain = create_rag_chain(vectorstore, memory)"
   ],
   "id": "ebc8e62f08bfdebe",
   "outputs": [
    {
     "name": "stdout",
     "output_type": "stream",
     "text": [
      "1. 문서 로드 중...\n",
      "2. 문서 분할 중...\n",
      "총 79개의 청크로 분할됨\n",
      "3. 임베딩 생성 중...\n",
      "4. 벡터 스토어 생성 중...\n",
      "5. 메모리 및 체인 설정 중...\n"
     ]
    }
   ],
   "execution_count": 40
  },
  {
   "metadata": {
    "ExecuteTime": {
     "end_time": "2025-07-04T08:18:09.321219Z",
     "start_time": "2025-07-04T08:18:07.757005Z"
    }
   },
   "cell_type": "code",
   "source": "chain.invoke('Aaronson 은 유죄인가요?')",
   "id": "a3b7681f727613d6",
   "outputs": [
    {
     "name": "stdout",
     "output_type": "stream",
     "text": [
      "네, Jones, Aaronson, 그리고 Rutherford는 자신들에게 죄를 물려주었다고 기소된 것이 맞습니다."
     ]
    },
    {
     "data": {
      "text/plain": [
       "{'question': 'Aaronson 은 유죄인가요?',\n",
       " 'chat_history': [HumanMessage(content='Aaronson 은 유죄인가요?'),\n",
       "  AIMessage(content='네, Jones, Aaronson, 그리고 Rutherford는 자신들에게 죄를 물려주었다고 기소된 것이 맞습니다.')],\n",
       " 'answer': '네, Jones, Aaronson, 그리고 Rutherford는 자신들에게 죄를 물려주었다고 기소된 것이 맞습니다.',\n",
       " 'source_documents': [Document(page_content='the thoughts that came into his head. He wrote first in large clumsy\\ncapitals:\\nFREEDOM IS SLAVERY\\nThen almost without a pause he wrote beneath it:\\nTWO AND TWO MAKE FIVE\\nBut then there came a sort of check. His mind, as though shying away from\\nsomething, seemed unable to concentrate. He knew that he knew what came\\nnext, but for the moment he could not recall it. When he did recall it,\\nit was only by consciously reasoning out what it must be: it did not come\\nof its own accord. He wrote:\\nGOD IS POWER\\nHe accepted everything. The past was alterable. The past never had been\\naltered. Oceania was at war with Eastasia. Oceania had always been at war\\nwith Eastasia. Jones, Aaronson, and Rutherford were guilty of the crimes\\nthey were charged with. He had never seen the photograph that disproved\\ntheir guilt. It had never existed, he had invented it. He remembered\\nremembering contrary things, but those were false memories, products of', metadata={'source': './text.txt'}),\n",
       "  Document(page_content=\"The bonds had loosened themselves. Winston lowered himself to the floor\\nand stood up unsteadily.\\n'You are the last man,' said O'Brien. 'You are the guardian of the human\\nspirit. You shall see yourself as you are. Take off your clothes.'\\nWinston undid the bit of string that held his overalls together. The zip\\nfastener had long since been wrenched out of them. He could not remember\\nwhether at any time since his arrest he had taken off all his clothes at\\none time. Beneath the overalls his body was looped with filthy yellowish\\nrags, just recognizable as the remnants of underclothes. As he slid\\nthem to the ground he saw that there was a three-sided mirror at the far\\nend of the room. He approached it, then stopped short. An involuntary cry\\nhad broken out of him.\\n'Go on,' said O'Brien. 'Stand between the wings of the mirror. You shall\\nsee the side view as well.'\\nHe had stopped because he was frightened. A bowed, grey-coloured,\", metadata={'source': './text.txt'}),\n",
       "  Document(page_content='impossible even to rise from the horizontal if it had not been for the\\nbottle and teacup placed beside the bed overnight. Through the midday\\nhours he sat with glazed face, the bottle handy, listening to the\\ntelescreen. From fifteen to closing-time he was a fixture in the Chestnut\\nTree. No one cared what he did any longer, no whistle woke him, no\\ntelescreen admonished him. Occasionally, perhaps twice a week, he went\\nto a dusty, forgotten-looking office in the Ministry of Truth and did\\na little work, or what was called work. He had been appointed to a\\nsub-committee of a sub-committee which had sprouted from one of the\\ninnumerable committees dealing with minor difficulties that arose in the\\ncompilation of the Eleventh Edition of the Newspeak Dictionary. They were\\nengaged in producing something called an Interim Report, but what it was\\nthat they were reporting on he had never definitely found out. It was\\nsomething to do with the question of whether commas should be placed', metadata={'source': './text.txt'})]}"
      ]
     },
     "execution_count": 41,
     "metadata": {},
     "output_type": "execute_result"
    }
   ],
   "execution_count": 41
  },
  {
   "metadata": {
    "ExecuteTime": {
     "end_time": "2025-07-04T08:18:13.050762Z",
     "start_time": "2025-07-04T08:18:11.008604Z"
    }
   },
   "cell_type": "code",
   "source": "chain.invoke('그가 테이블에 어떤 메시지를 썼나요?')",
   "id": "1aa2ec833bf1a240",
   "outputs": [
    {
     "name": "stdout",
     "output_type": "stream",
     "text": [
      "그가 테이블에 어떤 메시지를 썼습니까?그가 테이블에 쓴 메시지는 \"FREEDOM IS SLAVERY\"와 \"TWO AND TWO MAKE FIVE\" 그리고 \"GOD IS POWER\"입니다."
     ]
    },
    {
     "data": {
      "text/plain": [
       "{'question': '그가 테이블에 어떤 메시지를 썼나요?',\n",
       " 'chat_history': [HumanMessage(content='Aaronson 은 유죄인가요?'),\n",
       "  AIMessage(content='네, Jones, Aaronson, 그리고 Rutherford는 자신들에게 죄를 물려주었다고 기소된 것이 맞습니다.'),\n",
       "  HumanMessage(content='그가 테이블에 어떤 메시지를 썼나요?'),\n",
       "  AIMessage(content='그가 테이블에 쓴 메시지는 \"FREEDOM IS SLAVERY\"와 \"TWO AND TWO MAKE FIVE\" 그리고 \"GOD IS POWER\"입니다.')],\n",
       " 'answer': '그가 테이블에 쓴 메시지는 \"FREEDOM IS SLAVERY\"와 \"TWO AND TWO MAKE FIVE\" 그리고 \"GOD IS POWER\"입니다.',\n",
       " 'source_documents': [Document(page_content='impossible even to rise from the horizontal if it had not been for the\\nbottle and teacup placed beside the bed overnight. Through the midday\\nhours he sat with glazed face, the bottle handy, listening to the\\ntelescreen. From fifteen to closing-time he was a fixture in the Chestnut\\nTree. No one cared what he did any longer, no whistle woke him, no\\ntelescreen admonished him. Occasionally, perhaps twice a week, he went\\nto a dusty, forgotten-looking office in the Ministry of Truth and did\\na little work, or what was called work. He had been appointed to a\\nsub-committee of a sub-committee which had sprouted from one of the\\ninnumerable committees dealing with minor difficulties that arose in the\\ncompilation of the Eleventh Edition of the Newspeak Dictionary. They were\\nengaged in producing something called an Interim Report, but what it was\\nthat they were reporting on he had never definitely found out. It was\\nsomething to do with the question of whether commas should be placed', metadata={'source': './text.txt'}),\n",
       "  Document(page_content='The telescreen was silent for a moment. Winston raised his head again. The\\nbulletin! But no, they were merely changing the music. He had the map of\\nAfrica behind his eyelids. The movement of the armies was a diagram: a\\nblack arrow tearing vertically southward, and a white arrow horizontally\\neastward, across the tail of the first. As though for reassurance he\\nlooked up at the imperturbable face in the portrait. Was it conceivable\\nthat the second arrow did not even exist?\\nHis interest flagged again. He drank another mouthful of gin, picked up\\nthe white knight and made a tentative move. Check. But it was evidently\\nnot the right move, because----\\nUncalled, a memory floated into his mind. He saw a candle-lit room with a\\nvast white-counterpaned bed, and himself, a boy of nine or ten, sitting on\\nthe floor, shaking a dice-box, and laughing excitedly. His mother was\\nsitting opposite him and also laughing.\\nIt must have been about a month before she disappeared. It was a moment of', metadata={'source': './text.txt'}),\n",
       "  Document(page_content='the thoughts that came into his head. He wrote first in large clumsy\\ncapitals:\\nFREEDOM IS SLAVERY\\nThen almost without a pause he wrote beneath it:\\nTWO AND TWO MAKE FIVE\\nBut then there came a sort of check. His mind, as though shying away from\\nsomething, seemed unable to concentrate. He knew that he knew what came\\nnext, but for the moment he could not recall it. When he did recall it,\\nit was only by consciously reasoning out what it must be: it did not come\\nof its own accord. He wrote:\\nGOD IS POWER\\nHe accepted everything. The past was alterable. The past never had been\\naltered. Oceania was at war with Eastasia. Oceania had always been at war\\nwith Eastasia. Jones, Aaronson, and Rutherford were guilty of the crimes\\nthey were charged with. He had never seen the photograph that disproved\\ntheir guilt. It had never existed, he had invented it. He remembered\\nremembering contrary things, but those were false memories, products of', metadata={'source': './text.txt'})]}"
      ]
     },
     "execution_count": 42,
     "metadata": {},
     "output_type": "execute_result"
    }
   ],
   "execution_count": 42
  },
  {
   "metadata": {
    "ExecuteTime": {
     "end_time": "2025-07-04T08:18:24.182305Z",
     "start_time": "2025-07-04T08:18:21.427448Z"
    }
   },
   "cell_type": "code",
   "source": "chain.invoke('Julia 는 누구인가요?')",
   "id": "833fdd6421b09352",
   "outputs": [
    {
     "name": "stdout",
     "output_type": "stream",
     "text": [
      "Julia는 누구인가요?Julia는 이야기 속에서 주인공인 윈스턴과 사랑을 나누는 여성 캐릭터입니다."
     ]
    },
    {
     "data": {
      "text/plain": [
       "{'question': 'Julia 는 누구인가요?',\n",
       " 'chat_history': [HumanMessage(content='Aaronson 은 유죄인가요?'),\n",
       "  AIMessage(content='네, Jones, Aaronson, 그리고 Rutherford는 자신들에게 죄를 물려주었다고 기소된 것이 맞습니다.'),\n",
       "  HumanMessage(content='그가 테이블에 어떤 메시지를 썼나요?'),\n",
       "  AIMessage(content='그가 테이블에 쓴 메시지는 \"FREEDOM IS SLAVERY\"와 \"TWO AND TWO MAKE FIVE\" 그리고 \"GOD IS POWER\"입니다.'),\n",
       "  HumanMessage(content='Julia 는 누구인가요?'),\n",
       "  AIMessage(content='Julia는 이야기 속에서 주인공인 윈스턴과 사랑을 나누는 여성 캐릭터입니다.')],\n",
       " 'answer': 'Julia는 이야기 속에서 주인공인 윈스턴과 사랑을 나누는 여성 캐릭터입니다.',\n",
       " 'source_documents': [Document(page_content=\"out, reconciled. There were no more doubts, no more arguments, no more\\npain, no more fear. His body was healthy and strong. He walked easily,\\nwith a joy of movement and with a feeling of walking in sunlight. He was\\nnot any longer in the narrow white corridors in the Ministry of Love, he\\nwas in the enormous sunlit passage, a kilometre wide, down which he had\\nseemed to walk in the delirium induced by drugs. He was in the Golden\\nCountry, following the foot-track across the old rabbit-cropped pasture.\\nHe could feel the short springy turf under his feet and the gentle sunshine\\non his face. At the edge of the field were the elm trees, faintly stirring,\\nand somewhere beyond that was the stream where the dace lay in the green\\npools under the willows.\\nSuddenly he started up with a shock of horror. The sweat broke out on his\\nbackbone. He had heard himself cry aloud:\\n'Julia! Julia! Julia, my love! Julia!'\\nFor a moment he had had an overwhelming hallucination of her presence. She\", metadata={'source': './text.txt'}),\n",
       "  Document(page_content=\"the whiskers and the yellow teeth. Again the black panic took hold of him.\\nHe was blind, helpless, mindless.\\n'It was a common punishment in Imperial China,' said O'Brien as\\ndidactically as ever.\\nThe mask was closing on his face. The wire brushed his cheek. And then--no,\\nit was not relief, only hope, a tiny fragment of hope. Too late, perhaps\\ntoo late. But he had suddenly understood that in the whole world there was\\njust ONE person to whom he could transfer his punishment--ONE body that he\\ncould thrust between himself and the rats. And he was shouting frantically,\\nover and over.\\n'Do it to Julia! Do it to Julia! Not me! Julia! I don't care what you do\\nto her. Tear her face off, strip her to the bones. Not me! Julia! Not me!'\\nHe was falling backwards, into enormous depths, away from the rats. He was\\nstill strapped in the chair, but he had fallen through the floor, through\\nthe walls of the building, through the earth, through the oceans, through\", metadata={'source': './text.txt'}),\n",
       "  Document(page_content=\"longer.'\\n'No,' he said, 'you don't feel the same.'\\nThere did not seem to be anything more to say. The wind plastered their\\nthin overalls against their bodies. Almost at once it became embarrassing\\nto sit there in silence: besides, it was too cold to keep still. She said\\nsomething about catching her Tube and stood up to go.\\n'We must meet again,' he said.\\n'Yes,' she said, 'we must meet again.'\\nHe followed irresolutely for a little distance, half a pace behind her.\\nThey did not speak again. She did not actually try to shake him off, but\\nwalked at just such a speed as to prevent his keeping abreast of her.\\nHe had made up his mind that he would accompany her as far as the Tube\\nstation, but suddenly this process of trailing along in the cold seemed\\npointless and unbearable. He was overwhelmed by a desire not so much to\\nget away from Julia as to get back to the Chestnut Tree Cafe, which had\\nnever seemed so attractive as at this moment. He had a nostalgic vision\", metadata={'source': './text.txt'})]}"
      ]
     },
     "execution_count": 43,
     "metadata": {},
     "output_type": "execute_result"
    }
   ],
   "execution_count": 43
  },
  {
   "metadata": {},
   "cell_type": "code",
   "outputs": [],
   "execution_count": null,
   "source": "",
   "id": "a4cce97a1544bbb3"
  }
 ],
 "metadata": {
  "kernelspec": {
   "display_name": "Python 3",
   "language": "python",
   "name": "python3"
  },
  "language_info": {
   "codemirror_mode": {
    "name": "ipython",
    "version": 2
   },
   "file_extension": ".py",
   "mimetype": "text/x-python",
   "name": "python",
   "nbconvert_exporter": "python",
   "pygments_lexer": "ipython2",
   "version": "2.7.6"
  }
 },
 "nbformat": 4,
 "nbformat_minor": 5
}
